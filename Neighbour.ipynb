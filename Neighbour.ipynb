{
 "cells": [
  {
   "cell_type": "code",
   "execution_count": 1,
   "id": "e4d0a273",
   "metadata": {},
   "outputs": [],
   "source": [
    "import numpy as np\n",
    "import matplotlib.pyplot as plt"
   ]
  },
  {
   "cell_type": "code",
   "execution_count": 2,
   "id": "ec756fe2",
   "metadata": {},
   "outputs": [],
   "source": [
    "from scipy import ndimage"
   ]
  },
  {
   "cell_type": "code",
   "execution_count": 40,
   "id": "509877ec",
   "metadata": {},
   "outputs": [],
   "source": [
    "windowSize=3"
   ]
  },
  {
   "cell_type": "code",
   "execution_count": 55,
   "id": "3b6929e6",
   "metadata": {},
   "outputs": [
    {
     "data": {
      "image/png": "[encoded data removed]",
      "text/plain": [
       "<Figure size 640x480 with 1 Axes>"
      ]
     },
     "metadata": {},
     "output_type": "display_data"
    }
   ],
   "source": [
    "size = 5\n",
    "rasterimg = np.random.randint(2, size=(size, size))\n",
    "#rasterimg = np.random.randint(5, size=(5, 5))\n",
    "\n",
    "rasterimg[2:5,]=0\n",
    "\n",
    "rasterimg\n",
    "\n",
    "fig1, (ax1)= plt.subplots(1, sharex = True, sharey = False)\n",
    "ax1.imshow(rasterimg, interpolation ='none', aspect = 'auto')\n",
    "for (j,i),label in np.ndenumerate(rasterimg):\n",
    "    ax1.text(i,j,label,ha='center',va='center')\n",
    "plt.show() "
   ]
  },
  {
   "cell_type": "code",
   "execution_count": 56,
   "id": "da5763cb",
   "metadata": {},
   "outputs": [],
   "source": [
    "from scipy import ndimage\n",
    "import numpy as np\n",
    "def computerNeighbour(rasterimg,windowSize,nearerToLowest=True,maxinteration=9):\n",
    "    window= np.ones((windowSize, windowSize))\n",
    "    def countoperation(x):\n",
    "        centre = int(x.size / 2)\n",
    "        atCentre=x[centre]\n",
    "        if (atCentre==0):\n",
    "            x[centre]=-np.inf\n",
    "            if ((x).max()==0):\n",
    "                return 0\n",
    "            else:\n",
    "                x[centre]=np.inf\n",
    "                return (x).min()+1\n",
    "        else:\n",
    "            return atCentre+1\n",
    "    itr=0\n",
    "    while(0 in rasterimg and itr<maxinteration):\n",
    "        res = ndimage.generic_filter(rasterimg , countoperation, footprint=window,)\n",
    "        rasterimg=res\n",
    "        itr=itr+1\n",
    "    if(nearerToLowest):\n",
    "        rasterimg=(rasterimg-itr-1)*(-1)\n",
    "    return rasterimg"
   ]
  },
  {
   "cell_type": "code",
   "execution_count": 57,
   "id": "de818a41",
   "metadata": {},
   "outputs": [
    {
     "name": "stdout",
     "output_type": "stream",
     "text": [
      "[[1 0 0 1 1]\n",
      " [0 0 1 0 1]\n",
      " [1 1 1 1 1]\n",
      " [2 2 2 2 2]\n",
      " [3 3 3 3 3]]\n"
     ]
    }
   ],
   "source": [
    "rasterimg=computerNeighbour(rasterimg,3)\n",
    "print(rasterimg)"
   ]
  },
  {
   "cell_type": "code",
   "execution_count": 58,
   "id": "3526814f",
   "metadata": {},
   "outputs": [
    {
     "data": {
      "image/png": "[encoded data removed]",
      "text/plain": [
       "<Figure size 640x480 with 1 Axes>"
      ]
     },
     "metadata": {},
     "output_type": "display_data"
    }
   ],
   "source": [
    "fig1, (ax1)= plt.subplots(1, sharex = True, sharey = False)\n",
    "ax1.imshow(rasterimg, interpolation ='none', aspect = 'auto')\n",
    "for (j,i),label in np.ndenumerate(rasterimg):\n",
    "    ax1.text(i,j,label,ha='center',va='center')\n",
    "plt.show() "
   ]
  }
 ],
 "metadata": {
  "kernelspec": {
   "display_name": "Python 3 (ipykernel)",
   "language": "python",
   "name": "python3"
  },
  "language_info": {
   "codemirror_mode": {
    "name": "ipython",
    "version": 3
   },
   "file_extension": ".py",
   "mimetype": "text/x-python",
   "name": "python",
   "nbconvert_exporter": "python",
   "pygments_lexer": "ipython3",
   "version": "3.8.13"
  }
 },
 "nbformat": 4,
 "nbformat_minor": 5
}
