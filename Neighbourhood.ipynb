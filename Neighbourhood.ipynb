{
 "cells": [
  {
   "cell_type": "code",
   "execution_count": 513,
   "id": "e4d0a273",
   "metadata": {},
   "outputs": [],
   "source": [
    "import numpy as np\n",
    "import matplotlib.pyplot as plt"
   ]
  },
  {
   "cell_type": "code",
   "execution_count": 520,
   "id": "ec756fe2",
   "metadata": {},
   "outputs": [],
   "source": [
    "from scipy import ndimage"
   ]
  },
  {
   "cell_type": "code",
   "execution_count": 521,
   "id": "509877ec",
   "metadata": {},
   "outputs": [],
   "source": [
    "windowSize=3"
   ]
  },
  {
   "cell_type": "code",
   "execution_count": 522,
   "id": "3b6929e6",
   "metadata": {},
   "outputs": [
    {
     "data": {
      "text/plain": [
       "array([[0, 1, 0, 1, 0],\n",
       "       [1, 1, 1, 0, 1],\n",
       "       [0, 0, 0, 0, 0],\n",
       "       [0, 0, 0, 0, 0],\n",
       "       [0, 0, 0, 0, 0]])"
      ]
     },
     "execution_count": 522,
     "metadata": {},
     "output_type": "execute_result"
    }
   ],
   "source": [
    "size = 5\n",
    "rasterimg = np.random.randint(2, size=(size, size))\n",
    "#rasterimg = np.random.randint(5, size=(5, 5))\n",
    "\n",
    "rasterimg[2:5,]=0\n",
    "\n",
    "rasterimg"
   ]
  },
  {
   "cell_type": "code",
   "execution_count": 523,
   "id": "da5763cb",
   "metadata": {},
   "outputs": [],
   "source": [
    "from scipy import ndimage\n",
    "import numpy as np\n",
    "def computerNeighbour(rasterimg,windowSize):\n",
    "    window= np.ones((windowSize, windowSize))\n",
    "    def countoperation(x):\n",
    "        centre = int(x.size / 2)\n",
    "        atCentre=x[centre]\n",
    "        if (atCentre==0):\n",
    "            x[centre]=-np.inf\n",
    "            if ((x).max()==0):\n",
    "                return 0\n",
    "            else:\n",
    "                x[centre]=np.inf\n",
    "                return (x).min()+1\n",
    "        else:\n",
    "            return atCentre+1\n",
    "    while(0 in rasterimg ):\n",
    "        res = ndimage.generic_filter(rasterimg , countoperation, footprint=window,)\n",
    "        rasterimg=res\n",
    "    \n",
    "    return rasterimg"
   ]
  },
  {
   "cell_type": "code",
   "execution_count": 524,
   "id": "de818a41",
   "metadata": {},
   "outputs": [
    {
     "name": "stdout",
     "output_type": "stream",
     "text": [
      "[[3 4 3 4 3]\n",
      " [4 4 4 3 4]\n",
      " [3 3 3 3 3]\n",
      " [2 2 2 2 2]\n",
      " [1 1 1 1 1]]\n"
     ]
    }
   ],
   "source": [
    "rasterimg=computerNeighbour(rasterimg,3)\n",
    "print(rasterimg)"
   ]
  },
  {
   "cell_type": "code",
   "execution_count": 530,
   "id": "3526814f",
   "metadata": {},
   "outputs": [
    {
     "data": {
      "image/png": "[encoded data removed]",
      "text/plain": [
       "<Figure size 640x480 with 1 Axes>"
      ]
     },
     "metadata": {},
     "output_type": "display_data"
    }
   ],
   "source": [
    "fig1, (ax1)= plt.subplots(1, sharex = True, sharey = False)\n",
    "ax1.imshow(rasterimg, interpolation ='none', aspect = 'auto')\n",
    "for (j,i),label in np.ndenumerate(rasterimg):\n",
    "    ax1.text(i,j,label,ha='center',va='center')\n",
    "plt.show() "
   ]
  },
  {
   "cell_type": "code",
   "execution_count": null,
   "id": "0bb4e2b6",
   "metadata": {},
   "outputs": [],
   "source": []
  }
 ],
 "metadata": {
  "kernelspec": {
   "display_name": "Python 3 (ipykernel)",
   "language": "python",
   "name": "python3"
  },
  "language_info": {
   "codemirror_mode": {
    "name": "ipython",
    "version": 3
   },
   "file_extension": ".py",
   "mimetype": "text/x-python",
   "name": "python",
   "nbconvert_exporter": "python",
   "pygments_lexer": "ipython3",
   "version": "3.8.13"
  }
 },
 "nbformat": 4,
 "nbformat_minor": 5
}
